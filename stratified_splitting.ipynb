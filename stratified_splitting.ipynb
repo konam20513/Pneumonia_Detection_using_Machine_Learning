{
 "cells": [
  {
   "cell_type": "code",
   "execution_count": 2,
   "metadata": {},
   "outputs": [],
   "source": [
    "import os\n",
    "import shutil\n",
    "import numpy as np\n",
    "from sklearn.model_selection import train_test_split\n",
    "\n",
    "# Paths\n",
    "path_normal = r\"F:\\IIITD\\Sem 7\\ML\\ML project\\processed_data\\normal\"\n",
    "path_pneumonia = r\"F:\\IIITD\\Sem 7\\ML\\ML project\\processed_data\\pneumonia\"\n",
    "\n",
    "# New Folders\n",
    "base_directory = r\"F:\\IIITD\\Sem 7\\ML\\ML project\\data_to_model\"\n",
    "os.makedirs(base_directory, exist_ok=True)\n",
    "train_folder = os.path.join(base_directory, 'train')\n",
    "validation_folder = os.path.join(base_directory, 'validation')\n",
    "test_folder = os.path.join(base_directory, 'test')\n",
    "\n",
    "# Collect data and labels\n",
    "image_data = []\n",
    "image_labels = []\n",
    "\n",
    "# Enumerating labels and paths\n",
    "for label_index, path in enumerate([path_normal, path_pneumonia]):\n",
    "    for image_file in os.listdir(path):\n",
    "        image_data.append(os.path.join(path, image_file))\n",
    "        image_labels.append(label_index)\n",
    "\n",
    "# Convert to numpy\n",
    "image_labels = np.array(image_labels)\n",
    "\n",
    "# Stratified Split\n",
    "train_data, temporary_test_data, train_labels, temporary_test_labels = train_test_split(\n",
    "    image_data, image_labels, test_size=0.2, stratify=image_labels, random_state=42)\n",
    "validation_data, test_data, validation_labels, test_labels = train_test_split(\n",
    "    temporary_test_data, temporary_test_labels, test_size=0.5, stratify=temporary_test_labels, random_state=42)\n",
    "\n",
    "# File Transfer Function\n",
    "def move_files_to_directory(paths, labels, destination_base):\n",
    "    label_map = {0: 'normal', 1: 'pneumonia'}\n",
    "    for label, file_path in zip(labels, paths):\n",
    "        label_folder = label_map[label]\n",
    "        destination_path = os.path.join(destination_base, label_folder)\n",
    "        os.makedirs(destination_path, exist_ok=True)\n",
    "        shutil.copy2(file_path, destination_path)\n",
    "\n",
    "# Transfer of Files\n",
    "move_files_to_directory(train_data, train_labels, train_folder)\n",
    "move_files_to_directory(validation_data, validation_labels, validation_folder)\n",
    "move_files_to_directory(test_data, test_labels, test_folder)\n"
   ]
  }
 ],
 "metadata": {
  "kernelspec": {
   "display_name": "Python 3",
   "language": "python",
   "name": "python3"
  },
  "language_info": {
   "codemirror_mode": {
    "name": "ipython",
    "version": 3
   },
   "file_extension": ".py",
   "mimetype": "text/x-python",
   "name": "python",
   "nbconvert_exporter": "python",
   "pygments_lexer": "ipython3",
   "version": "3.10.11"
  },
  "orig_nbformat": 4
 },
 "nbformat": 4,
 "nbformat_minor": 2
}
