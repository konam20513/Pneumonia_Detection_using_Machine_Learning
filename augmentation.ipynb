{
 "cells": [
  {
   "cell_type": "code",
   "execution_count": 3,
   "metadata": {},
   "outputs": [],
   "source": [
    "import os\n",
    "import cv2\n",
    "import albumentations as A\n",
    "\n",
    "# Define the augmentation pipeline\n",
    "transform = A.Compose([\n",
    "    A.Rotate(limit=30, p=0.5),  # 1. Rotation\n",
    "    A.RandomScale(scale_limit=0.2, p=0.5),  # 2. Scaling\n",
    "    A.HorizontalFlip(p=0.5),  # 4. Horizontal Flip\n",
    "    A.GaussNoise(var_limit=(10, 100), p=0.5),  # 5. Gaussian Noise\n",
    "])\n",
    "\n",
    "def apply_augmentation(input_folder, output_folder, num_augs_per_image=2):\n",
    "    if not os.path.exists(output_folder):\n",
    "        os.makedirs(output_folder)\n",
    "\n",
    "    for img_name in os.listdir(input_folder):\n",
    "        img_path = os.path.join(input_folder, img_name)\n",
    "        image = cv2.imread(img_path)\n",
    "        image = cv2.cvtColor(image, cv2.COLOR_BGR2RGB)\n",
    "\n",
    "        for i in range(num_augs_per_image):\n",
    "            augmented_image = transform(image=image)['image']\n",
    "            augmented_image = cv2.cvtColor(augmented_image, cv2.COLOR_RGB2BGR)\n",
    "            cv2.imwrite(os.path.join(output_folder, f\"{os.path.splitext(img_name)[0]}_aug_{i}.jpg\"), \n",
    "                        augmented_image, [cv2.IMWRITE_JPEG_QUALITY, 85])\n",
    "\n",
    "def augment_dataset(base_input_path, base_output_path, num_augs_per_image=2):\n",
    "    # Iterate through train, test, and val folders\n",
    "    for dataset_type in ['train', 'test', 'validation']:\n",
    "        input_path = os.path.join(base_input_path, dataset_type)\n",
    "        output_path = os.path.join(base_output_path, dataset_type)\n",
    "\n",
    "        # Iterate through normal and pneumonia subfolders\n",
    "        for category in os.listdir(input_path):\n",
    "            cat_input_path = os.path.join(input_path, category)\n",
    "            cat_output_path = os.path.join(output_path, category)\n",
    "            \n",
    "            apply_augmentation(cat_input_path, cat_output_path, num_augs_per_image)\n",
    "\n",
    "# Example usage:\n",
    "# Note: Adjust the paths according to your project structure.\n",
    "augment_dataset(\"data_to_model\", \"data_to_model_augmented\")\n"
   ]
  }
 ],
 "metadata": {
  "kernelspec": {
   "display_name": "cgr",
   "language": "python",
   "name": "python3"
  },
  "language_info": {
   "codemirror_mode": {
    "name": "ipython",
    "version": 3
   },
   "file_extension": ".py",
   "mimetype": "text/x-python",
   "name": "python",
   "nbconvert_exporter": "python",
   "pygments_lexer": "ipython3",
   "version": "3.10.11"
  }
 },
 "nbformat": 4,
 "nbformat_minor": 2
}
